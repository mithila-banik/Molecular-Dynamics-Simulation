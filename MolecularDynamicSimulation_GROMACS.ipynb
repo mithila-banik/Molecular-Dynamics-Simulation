{
  "nbformat": 4,
  "nbformat_minor": 0,
  "metadata": {
    "colab": {
      "provenance": [],
      "gpuType": "T4"
    },
    "kernelspec": {
      "name": "python3",
      "display_name": "Python 3"
    },
    "language_info": {
      "name": "python"
    },
    "accelerator": "GPU"
  },
  "cells": [
    {
      "cell_type": "markdown",
      "source": [
        "# Install Py3Dmol and BioPython"
      ],
      "metadata": {
        "id": "W6IDYQNdJMrL"
      }
    },
    {
      "cell_type": "code",
      "execution_count": null,
      "metadata": {
        "id": "ZvPOdkDO62JC"
      },
      "outputs": [],
      "source": [
        "#Installing py3Dmol and biopython\n",
        "!pip install py3Dmol biopython\n",
        "\n",
        "#Importing py3Dmol for safety\n",
        "import py3Dmol"
      ]
    },
    {
      "cell_type": "markdown",
      "source": [
        "# Install GROMACS (for the first time)"
      ],
      "metadata": {
        "id": "cxGU9EA7pyYZ"
      }
    },
    {
      "cell_type": "markdown",
      "source": [
        "\n",
        "\n",
        "1.  Change the \"**Runtime**\" of the Google Colab and enable \"**T4 GPU**\" under \"Hardware accelerator\" section\n",
        "2.  **Mount Google Drive** so that the work will be automatically saved in the Drive (as backup purpose) and **install GROMACS using following commands**\n",
        "\n"
      ],
      "metadata": {
        "id": "vNd3bIy_xz4B"
      }
    },
    {
      "cell_type": "code",
      "source": [
        "#1. Mount Google Drive:\n",
        "## the process will ask for the permission. allow it.\n",
        "from google.colab import drive\n",
        "drive.mount('/content/drive')"
      ],
      "metadata": {
        "id": "v5tGGf3j7fcP"
      },
      "execution_count": null,
      "outputs": []
    },
    {
      "cell_type": "code",
      "source": [
        "#2. create a folder called \"gromacs\" and then install GROMACS inside that folder\n",
        "%cd /content/drive/MyDrive/ #or your chosen file_path\n",
        "!mkdir gromacsTools\n",
        "%cd gromacsTools\n",
        "\n",
        "#3. install gromacs\n",
        "\n",
        "## Download and unzip the compressed folder of GROMACS 2020.6 version\n",
        "!wget https://raw.githubusercontent.com/pb3lab/ibm3202/master/software/gromacs.tar.gz\n",
        "!tar xzf gromacs.tar.gz\n",
        "\n",
        "## It is recommended to upgrade cmake\n",
        "!apt-get update\n",
        "!pip install cmake --upgrade\n",
        "\n",
        "## download the libhwloc5 package and install the package using dpkg:\n",
        "!wget http://archive.ubuntu.com/ubuntu/pool/universe/h/hwloc/libhwloc5_1.11.9-1_amd64.deb\n",
        "!dpkg -i libhwloc5_1.11.9-1_amd64.deb"
      ],
      "metadata": {
        "id": "w33sBPTg7xcq"
      },
      "execution_count": null,
      "outputs": []
    },
    {
      "cell_type": "markdown",
      "source": [
        "# To use already installed GROMACS"
      ],
      "metadata": {
        "id": "N9MpksWuCpA6"
      }
    },
    {
      "cell_type": "markdown",
      "source": [
        "If you already have installed GROMACS in the Google Drive following the above instruction during any previous runtime (inside /MyDrive/gromacsTools/), you can start using GROMACS from here."
      ],
      "metadata": {
        "id": "L7GDCPTJCzXx"
      }
    },
    {
      "cell_type": "code",
      "source": [
        "# Mount Google Drive:\n",
        "## the process will ask for the permission. allow it.\n",
        "from google.colab import drive\n",
        "drive.mount('/content/drive') #or your chosen file_path"
      ],
      "metadata": {
        "id": "5waEj6EA8AuA"
      },
      "execution_count": null,
      "outputs": []
    },
    {
      "cell_type": "code",
      "source": [
        "!chmod +x /content/drive/MyDrive/gromacsTools/gromacs/bin/gmx\n",
        "\n",
        "## download the libhwloc5 package and install the package using dpkg:\n",
        "!wget http://archive.ubuntu.com/ubuntu/pool/universe/h/hwloc/libhwloc5_1.11.9-1_amd64.deb\n",
        "!dpkg -i libhwloc5_1.11.9-1_amd64.deb\n",
        "\n",
        "# check if GROMACS is working properly or not\n",
        "!ln -sf /content/drive/MyDrive/gromacsTools/gromacs/bin/gmx /usr/bin/\n",
        "!gmx --version"
      ],
      "metadata": {
        "id": "Kfqgm3K78NaD"
      },
      "execution_count": null,
      "outputs": []
    },
    {
      "cell_type": "code",
      "source": [
        "!apt-get update\n",
        "!apt-get install -y nvidia-cuda-toolkit"
      ],
      "metadata": {
        "id": "lpqI4o-60eMt"
      },
      "execution_count": null,
      "outputs": []
    },
    {
      "cell_type": "markdown",
      "source": [
        "# Energy Minimization in Molecular Dynamics\n",
        "\n",
        "## Theory\n",
        "Energy minimization (EM) is a crucial first step in MD simulations that:\n",
        "1. Removes bad contacts or overlaps between atoms\n",
        "2. Relaxes the system to its local energy minimum\n",
        "3. Prevents system instability during dynamics\n",
        "\n",
        "## Input Files Required\n",
        "1. **step3_input.gro**: Coordinate file containing:\n",
        "   - Atomic positions\n",
        "   - Box vectors\n",
        "   - System topology\n",
        "\n",
        "2. **step4.0_minimization.mdp**: Parameter file specifying:\n",
        "   - Minimization algorithm (e.g., steepest descent)\n",
        "   - Maximum steps\n",
        "   - Energy step size\n",
        "   - Convergence criteria\n",
        "\n",
        "3. **topol.top**: Topology file containing:\n",
        "   - Molecular topology\n",
        "   - Force field parameters\n",
        "   - Bond definitions\n",
        "   - Angle definitions\n",
        "\n",
        "4. **index.ndx**: Index file defining:\n",
        "   - Atom groups\n",
        "   - Selections for analysis\n",
        "\n",
        "## Output Analysis\n",
        "The resulting energy plot shows:\n",
        "- Y-axis: Potential energy in kJ/mol\n",
        "- X-axis: Minimization steps\n",
        "- Convergence is indicated by plateauing of energy"
      ],
      "metadata": {
        "id": "dBGfagM7Ow71"
      }
    },
    {
      "cell_type": "markdown",
      "source": [
        "# Energy Mimization of the target protein system"
      ],
      "metadata": {
        "id": "DUMQQxYgAlgC"
      }
    },
    {
      "cell_type": "code",
      "source": [
        "#Change directory to this\n",
        "%cd /content/drive/MyDrive/MD_GROMACS/charmm-gui/gromacs #or your chosen file_path"
      ],
      "metadata": {
        "id": "orW4Cr5R85qS"
      },
      "execution_count": null,
      "outputs": []
    },
    {
      "cell_type": "code",
      "source": [
        "%%bash\n",
        "\n",
        "init=step3_input\n",
        "mini_prefix=step4.0_minimization\n",
        "equi_prefix=step4.1_equilibration\n",
        "prod_prefix=step5_production\n",
        "prod_step=step5\n",
        "\n",
        "# Minimization\n",
        "gmx grompp -f ${mini_prefix}.mdp -o ${mini_prefix}.tpr -c ${init}.gro -r ${init}.gro -p topol.top -n index.ndx -maxwarn -1\n",
        "gmx mdrun -v -deffnm ${mini_prefix}\n",
        "\n",
        "#Using energy to extract the potential energy of the system\n",
        "echo \"Potential\" > options\n",
        "echo \" \" >> options\n",
        "gmx energy -f ${mini_prefix}.edr -o em_potential.xvg -xvg none < options"
      ],
      "metadata": {
        "id": "Dm2_E8rWH0wU"
      },
      "execution_count": null,
      "outputs": []
    },
    {
      "cell_type": "code",
      "source": [
        "# Check if file exists\n",
        "import os\n",
        "print(\"File exists:\", os.path.exists('em_potential.xvg'))\n",
        "\n",
        "# If file exists, show first few lines\n",
        "if os.path.exists('em_potential.xvg'):\n",
        "    with open('em_potential.xvg', 'r') as f:\n",
        "        print(\"\\nFirst few lines of the file:\")\n",
        "        print(''.join(f.readlines()[:5]))"
      ],
      "metadata": {
        "id": "5hLhpYHB2Cfz"
      },
      "execution_count": null,
      "outputs": []
    },
    {
      "cell_type": "code",
      "source": [
        "# Import required libraries\n",
        "import matplotlib.pyplot as plt\n",
        "import numpy as np\n",
        "\n",
        "# Reading the data\n",
        "data = np.loadtxt('em_potential.xvg')\n",
        "\n",
        "# Create plot with basic formatting\n",
        "plt.figure(figsize=(10, 6))\n",
        "plt.title('Potential Energy during Minimization', fontsize=12)\n",
        "plt.xlabel('Energy Minimization Step', fontsize=10)\n",
        "plt.ylabel(r'E$_P$ [kJ•mol$^{-1}$]', fontsize=10)\n",
        "plt.grid(True, alpha=0.3)\n",
        "\n",
        "# Plot the data\n",
        "plt.plot(data[:,0], data[:,1], color='red', linewidth=2)\n",
        "\n",
        "# Add minor gridlines\n",
        "plt.minorticks_on()\n",
        "plt.grid(which='minor', alpha=0.1)\n",
        "\n",
        "# Improve layout\n",
        "plt.tight_layout()\n",
        "\n",
        "# Show plot\n",
        "plt.show()"
      ],
      "metadata": {
        "id": "xET82igu11Ej"
      },
      "execution_count": null,
      "outputs": []
    },
    {
      "cell_type": "markdown",
      "source": [
        "# System Equilibration in Molecular Dynamics\n",
        "\n",
        "## Theory\n",
        "Equilibration is performed after energy minimization to:\n",
        "1. Bring the system to the desired temperature (NVT ensemble)\n",
        "2. Stabilize system properties before production runs\n",
        "3. Ensure proper density and pressure conditions\n",
        "\n",
        "## Process Steps\n",
        "1. **NVT Equilibration (Canonical Ensemble)**:\n",
        "   - Number of particles (N), Volume (V), and Temperature (T) are kept constant\n",
        "   - Uses temperature coupling (thermostat)\n",
        "   - Important for achieving target temperature\n",
        "   \n",
        "2. **Temperature Analysis**:\n",
        "   - Temperature fluctuations should be stable around target value\n",
        "   - Standard deviation indicates temperature control quality\n",
        "   - System should maintain consistent average temperature\n",
        "\n",
        "## Input Files\n",
        "1. **step4.1_equilibration.mdp**: Contains equilibration parameters:\n",
        "   - Temperature coupling parameters\n",
        "   - Integration timestep\n",
        "   - Equilibration duration\n",
        "   - Constraint algorithms\n",
        "\n",
        "2. **Previous Stage Files**:\n",
        "   - Minimized structure (step4.0_minimization.gro)\n",
        "   - Original reference structure (step3_input.gro)\n",
        "   - System topology (topol.top)\n",
        "   - Index file (index.ndx)\n",
        "\n",
        "## Output Analysis\n",
        "The temperature plot shows:\n",
        "- System temperature evolution over time\n",
        "- Temperature stability assessment\n",
        "- Fluctuations around target temperature"
      ],
      "metadata": {
        "id": "i0Lw30poQku0"
      }
    },
    {
      "cell_type": "markdown",
      "source": [
        "# Equilibration"
      ],
      "metadata": {
        "id": "lPWQO6GsIFvr"
      }
    },
    {
      "cell_type": "code",
      "source": [
        "!pwd /content/drive/MyDrive/MD_GROMACS/charmm-gui/gromacs #or your chosen file_path"
      ],
      "metadata": {
        "id": "dZKjbUeWJGs-"
      },
      "execution_count": null,
      "outputs": []
    },
    {
      "cell_type": "code",
      "source": [
        "%%bash\n",
        "init=step3_input\n",
        "mini_prefix=step4.0_minimization\n",
        "equi_prefix=step4.1_equilibration\n",
        "prod_prefix=step5_production\n",
        "prod_step=step5\n",
        "\n",
        "# Equilibration\n",
        "gmx grompp -f ${equi_prefix}.mdp -o ${equi_prefix}.tpr -c ${mini_prefix}.gro -r ${init}.gro -p topol.top -n index.ndx\n",
        "gmx mdrun -v -deffnm ${equi_prefix}\n",
        "\n",
        "#This is a trick to provide interactive options to gmx\n",
        "!echo \"Temperature\" > options\n",
        "!echo \" \" >> options\n",
        "\n",
        "#Using energy to extract the temperature of the system during the NVT equil MD\n",
        "echo \"Temperature\" > options\n",
        "echo \" \" >> options\n",
        "gmx energy -f ${equi_prefix}.edr -o nvt_temp.xvg -xvg none < options"
      ],
      "metadata": {
        "id": "4avDRjG-Jb4Q"
      },
      "execution_count": null,
      "outputs": []
    },
    {
      "cell_type": "code",
      "source": [
        "# Import required libraries\n",
        "import matplotlib.pyplot as plt\n",
        "import numpy as np\n",
        "\n",
        "# Set figure size\n",
        "plt.figure(figsize=(10, 6))\n",
        "\n",
        "# Reading the text file containing this information\n",
        "data = np.loadtxt('nvt_temp.xvg')\n",
        "\n",
        "# Create the plot\n",
        "plt.title('Temperature during 0.1 ns Equilibration (NVT)', fontsize=12)\n",
        "plt.xlabel('Time (ps)', fontsize=10)\n",
        "plt.ylabel('Temperature [K]', fontsize=10)\n",
        "plt.grid(True, alpha=0.3)\n",
        "plt.plot(data[:,0], data[:,1], color='red', linewidth=2)\n",
        "\n",
        "# Add minor gridlines\n",
        "plt.minorticks_on()\n",
        "plt.grid(which='minor', alpha=0.1)\n",
        "\n",
        "# Improve layout\n",
        "plt.tight_layout()\n",
        "\n",
        "# Show the plot\n",
        "plt.show()\n",
        "\n",
        "# Print some basic statistics\n",
        "print(\"\\nTemperature Statistics:\")\n",
        "print(f\"Average Temperature: {np.mean(data[:,1]):.2f} K\")\n",
        "print(f\"Standard Deviation: {np.std(data[:,1]):.2f} K\")\n",
        "print(f\"Min Temperature: {np.min(data[:,1]):.2f} K\")\n",
        "print(f\"Max Temperature: {np.max(data[:,1]):.2f} K\")"
      ],
      "metadata": {
        "id": "cNez_o9i5FpQ"
      },
      "execution_count": null,
      "outputs": []
    },
    {
      "cell_type": "markdown",
      "source": [
        "# Production Molecular Dynamics Simulation\n",
        "\n",
        "## Theory\n",
        "Production MD is the final phase where the actual simulation data is collected for analysis. This phase:\n",
        "1. Generates the trajectory for analysis\n",
        "2. Runs the system under constant conditions (NPT or NVT ensemble)\n",
        "3. Uses GPU acceleration for efficiency\n",
        "\n",
        "## Key Components\n",
        "1. **Simulation Length**:\n",
        "   - Divided into 10 consecutive runs\n",
        "   - Helps manage computational resources\n",
        "   - Allows for checkpoint saves\n",
        "   - Easier recovery if simulation crashes\n",
        "\n",
        "2. **GPU Acceleration**:\n",
        "   - Uses `-nb gpu` flag for non-bonded calculations\n",
        "   - Significantly speeds up calculations\n",
        "   - Essential for large systems\n",
        "\n",
        "3. **Checkpoint Files**:\n",
        "   - `.cpt` files store simulation state\n",
        "   - Enable continuous runs\n",
        "   - Used for simulation recovery\n",
        "   - Maintain simulation continuity\n",
        "\n",
        "## Input Requirements\n",
        "1. **step5_production.mdp**: Production run parameters\n",
        "   - Timestep\n",
        "   - Output frequency\n",
        "   - Ensemble conditions\n",
        "   - Temperature and pressure coupling\n",
        "\n",
        "2. **Previous Stage Files**:\n",
        "   - Equilibrated structure\n",
        "   - Topology\n",
        "   - Index file\n",
        "   - Checkpoint files (after first run)\n",
        "\n",
        "## Process Flow\n",
        "1. First run (cnt=1):\n",
        "   - Starts from equilibration output\n",
        "   - No checkpoint file needed\n",
        "2. Subsequent runs (cnt>1):\n",
        "   - Use previous run's output\n",
        "   - Include checkpoint files\n",
        "   - Continue simulation seamlessly"
      ],
      "metadata": {
        "id": "E5Jm1DqoRJdY"
      }
    },
    {
      "cell_type": "markdown",
      "source": [
        "# MDS Production"
      ],
      "metadata": {
        "id": "ETwKXwDsIKlw"
      }
    },
    {
      "cell_type": "code",
      "source": [
        "!pwd /content/drive/MyDrive/MD_GROMACS/charmm-gui/gromacs #or your chosen file_path"
      ],
      "metadata": {
        "id": "PVpU0H1CMJDp"
      },
      "execution_count": null,
      "outputs": []
    },
    {
      "cell_type": "code",
      "source": [
        "#%%bash\n",
        "init=step3_input\n",
        "mini_prefix=step4.0_minimization\n",
        "equi_prefix=step4.1_equilibration\n",
        "prod_prefix=step5_production\n",
        "prod_step=step5\n",
        "\n",
        "\n",
        "# Production\n",
        "cnt=1\n",
        "cntmax=10\n",
        "pcnt=0\n",
        "\n",
        "while (( ${cnt} <= ${cntmax} )); do\n",
        "    istep=${prod_step}_${cnt}\n",
        "    pstep=${prod_step}_${pcnt}\n",
        "\n",
        "\tif (( ${cnt} == 1 )); then\n",
        "        pstep=${equi_prefix}\n",
        "        gmx grompp -f ${prod_prefix}.mdp -o ${istep}.tpr -c ${pstep}.gro -p topol.top -n index.ndx\n",
        "\telse\n",
        "        gmx grompp -f ${prod_prefix}.mdp -o ${istep}.tpr -c ${pstep}.gro -t ${pstep}.cpt -p topol.top -n index.ndx\n",
        "\tfi\n",
        "\tgmx mdrun -v -deffnm ${istep} -nb gpu\n",
        "\t((cnt++))\n",
        " \t((pcnt++))\n",
        "done"
      ],
      "metadata": {
        "id": "42mMhb3kMFL1"
      },
      "execution_count": null,
      "outputs": []
    },
    {
      "cell_type": "markdown",
      "source": [
        "# Trajectory Visualization and Animation\n",
        "\n",
        "## Theory\n",
        "After production MD, visualizing the trajectory helps to:\n",
        "1. Analyze protein dynamics\n",
        "2. Identify conformational changes\n",
        "3. Create visual presentations of the simulation\n",
        "\n",
        "## Trajectory Processing\n",
        "1. **PBC (Periodic Boundary Conditions) Treatment**:\n",
        "   - `-pbc mol` option removes periodic boundary effects\n",
        "   - Centers the molecule in the box\n",
        "   - Makes visualization more intuitive\n",
        "   - Prevents protein \"jumping\" across box boundaries\n",
        "\n",
        "2. **Output Formats**:\n",
        "   - **PDB file**: Static structure file\n",
        "     - Contains atomic coordinates\n",
        "     - Used as reference structure\n",
        "   - **XTC file**: Trajectory file\n",
        "     - Contains dynamic information\n",
        "     - More compact than full trajectory\n",
        "     - Compatible with visualization tools\n",
        "\n",
        "3. **MDsrv Visualization**\n",
        "   - Web-based molecular viewer\n",
        "   - Supports trajectory visualization\n",
        "   - Interactive manipulation\n",
        "   - No software installation needed\n",
        "\n",
        "## File Usage\n",
        "1. Structure file (step5_production_protPBC.pdb):\n",
        "   - Reference structure\n",
        "   - Contains protein information\n",
        "   - Starting point for visualization\n",
        "\n",
        "2. Trajectory file (step5_production_protPBC.xtc):\n",
        "   - Contains motion information\n",
        "   - Time evolution of structure\n",
        "   - Attached to reference structure for playback"
      ],
      "metadata": {
        "id": "DsibF3kLRfQI"
      }
    },
    {
      "cell_type": "markdown",
      "source": [
        "# Animation"
      ],
      "metadata": {
        "id": "NYU7kPx7YKvA"
      }
    },
    {
      "cell_type": "code",
      "source": [
        "#Using trjconv to extract only the protein atoms from the simulation trajectory\n",
        "!echo \"Protein\" > options\n",
        "!echo \"Protein\" >> options\n",
        "!echo \" \"\n",
        "!gmx trjconv -s step5_production.tpr -f step5_production.xtc -o step5_production_protPBC.pdb -pbc mol -center < options\n",
        "!gmx trjconv -s step5_production.tpr -f step5_production.xtc -o step5_production_protPBC.xtc -pbc mol -center < options"
      ],
      "metadata": {
        "id": "Nv24hJhdU9uB"
      },
      "execution_count": null,
      "outputs": []
    },
    {
      "cell_type": "markdown",
      "source": [
        "## Visualization Instructions\n",
        "1. Go to MDsrv: https://proteinformatics.uni-leipzig.de/mdsrv.html\n",
        "2. Follow these steps:\n",
        "   - Click File > Open\n",
        "   - Select step5_production_protPBC.pdb\n",
        "   - Attach step5_production_protPBC.xtc trajectory file\n",
        "   - Use play button to start animation\n",
        "\n",
        "## Tips for Visualization\n",
        "1. Use mouse to rotate and zoom\n",
        "2. Adjust playback speed as needed\n",
        "3. Can focus on specific regions of interest\n",
        "4. Various representation styles available (cartoon, surface, etc.)"
      ],
      "metadata": {
        "id": "otB6tPwm0Bgm"
      }
    },
    {
      "cell_type": "markdown",
      "source": [
        "# Analysis of MD Simulation Results\n",
        "\n",
        "## Theory\n",
        "RMSD (Root Mean Square Deviation) Analysis helps to:\n",
        "1. Assess structural stability\n",
        "2. Measure conformational changes\n",
        "3. Validate simulation quality\n",
        "\n",
        "## Key Metrics\n",
        "1. **RMSD Calculation**:\n",
        "   - Measures structural deviation over time\n",
        "   - Calculated against:\n",
        "     - Initial structure\n",
        "     - Crystal structure (if available)\n",
        "   - Units: nanometers (nm)\n",
        "\n",
        "2. **Interpretation Guidelines**:\n",
        "   - Low RMSD (~0.1-0.3 nm): Structure is stable\n",
        "   - High RMSD (>0.5 nm): Significant conformational changes\n",
        "   - Plateau: System has reached equilibrium\n",
        "   - Continuous increase: Possible instability\n",
        "\n",
        "3. **Time Units**:\n",
        "   - Converted to nanoseconds (-tu ns)\n",
        "   - Helps in better understanding of timescales\n",
        "   - Standard unit for MD analysis\n",
        "\n",
        "## Analysis Components\n",
        "1. **Trajectory Processing**:\n",
        "   - PBC correction\n",
        "   - Center of mass motion removal\n",
        "   - Protein-only analysis\n",
        "\n",
        "2. **RMSD Calculations**:\n",
        "   - Against initial structure\n",
        "   - Against crystal structure (if available)\n",
        "   - Time evolution analysis"
      ],
      "metadata": {
        "id": "x28GtbOmSFlY"
      }
    },
    {
      "cell_type": "markdown",
      "source": [
        "#Result"
      ],
      "metadata": {
        "id": "KrPeKQYwDih4"
      }
    },
    {
      "cell_type": "code",
      "source": [
        "%cd /content/drive/MyDrive/MD_GROMACS... #or your chosen file_path"
      ],
      "metadata": {
        "id": "68b_i-F8FLd6"
      },
      "execution_count": null,
      "outputs": []
    },
    {
      "cell_type": "code",
      "source": [
        "!gmx trjconv -s step5_production.tpr -f step5_production.xtc -o step5_production_protPBC_output.xtc -pbc mol -center"
      ],
      "metadata": {
        "id": "QlTGDB7KDhRq"
      },
      "execution_count": null,
      "outputs": []
    },
    {
      "cell_type": "code",
      "source": [
        "!gmx rms -s step5_production.tpr -f step5_production_protPBC_output.xtc -o rmsd.xvg -tu ns"
      ],
      "metadata": {
        "id": "P5bqdtY6Fmbi"
      },
      "execution_count": null,
      "outputs": []
    },
    {
      "cell_type": "code",
      "source": [
        "!gmx rms -s step5_production.tpr -f step5_production_protPBC_output.xtc -o rmsd_xtal.xvg -tu ns"
      ],
      "metadata": {
        "id": "CMH9-O2uG_E8"
      },
      "execution_count": null,
      "outputs": []
    },
    {
      "cell_type": "code",
      "source": [
        "#Plotting the potential energy of the system\n",
        "import matplotlib.pyplot as plt\n",
        "plt.style.use('seaborn-whitegrid')\n",
        "import numpy as np\n",
        "\n",
        "#Reading the text file containing this information\n",
        "data = np.loadtxt('rmsdxtal.xvg')\n",
        "\n",
        "plt.title('RMSD')\n",
        "plt.xlabel('Time(ns)')\n",
        "plt.ylabel(r'RMSD (nm)')\n",
        "plt.plot(data[:,0], data[:,1], linestyle='solid', linewidth='2', color='red')\n",
        "plt.show()"
      ],
      "metadata": {
        "id": "cAsGXrfIK8L9"
      },
      "execution_count": null,
      "outputs": []
    }
  ]
}